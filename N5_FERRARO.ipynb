{
 "cells": [
  {
   "cell_type": "markdown",
   "metadata": {
    "id": "Gp2WddtV9IwG"
   },
   "source": [
    "# Programa Ingenias+ Data Science"
   ]
  },
  {
   "cell_type": "markdown",
   "metadata": {
    "id": "X03mviQS9IyL"
   },
   "source": [
    "# Ejercicios\n",
    "\n",
    "1. Crear un arreglo de ceros de longitud 12\n",
    "2. Crear un arreglo de longitud 10 con ceros en todas sus posiciones y un 10 en la posición número 5\n",
    "3. Crear un arreglo que tenga los números del 10 al 49\n",
    "4. Crear una arreglo 2d de shape (3, 3) que tenga los números del 0 al 8\n",
    "5. Crear un arreglo de números aleatorios de longitud 100 y obtener su media y varianza\n",
    "6. Calcular la media de un arreglo usando np.sum\n",
    "7. Calcular la varianza de un arreglo usando np.sum y np.mean\n",
    "8. Crear un array de números aleatorios usando np.random.randn.\n"
   ]
  },
  {
   "cell_type": "code",
   "execution_count": 1,
   "metadata": {
    "id": "_Ml6ucHAe0dr"
   },
   "outputs": [],
   "source": [
    "#Importar numpy\n",
    "import numpy as np"
   ]
  },
  {
   "cell_type": "code",
   "execution_count": 2,
   "metadata": {
    "id": "tawXg7-plFxr"
   },
   "outputs": [],
   "source": [
    "#Ejercicio1"
   ]
  },
  {
   "cell_type": "code",
   "execution_count": 2,
   "metadata": {
    "colab": {
     "base_uri": "https://localhost:8080/"
    },
    "id": "bDHUnDG-e0TB",
    "outputId": "080577a6-c49a-438f-a2ba-a4174f8b8dcf"
   },
   "outputs": [
    {
     "name": "stdout",
     "output_type": "stream",
     "text": [
      "[0. 0. 0. 0. 0. 0. 0. 0. 0. 0. 0. 0.]\n"
     ]
    }
   ],
   "source": [
    "np.zeros(12)\n",
    "tiempo=np.zeros(12)\n",
    "print(tiempo)"
   ]
  },
  {
   "cell_type": "code",
   "execution_count": 162,
   "metadata": {
    "id": "YmS9vXOolJYx"
   },
   "outputs": [],
   "source": [
    "#ejercicio2: Crear un arreglo de longitud 10 con ceros en todas sus posiciones y un 10 en la posición número 5"
   ]
  },
  {
   "cell_type": "code",
   "execution_count": 6,
   "metadata": {},
   "outputs": [
    {
     "name": "stdout",
     "output_type": "stream",
     "text": [
      "[ 0.  0.  0.  0. 10.  0.  0.  0.  0.  0.]\n"
     ]
    }
   ],
   "source": [
    "Puntos = np.zeros(10)      \n",
    "Puntos[4] = 10           \n",
    "print(Puntos)          "
   ]
  },
  {
   "cell_type": "code",
   "execution_count": null,
   "metadata": {
    "id": "5YVH9cE3lMAQ"
   },
   "outputs": [],
   "source": [
    "#ejercicio3"
   ]
  },
  {
   "cell_type": "code",
   "execution_count": 7,
   "metadata": {
    "colab": {
     "base_uri": "https://localhost:8080/"
    },
    "id": "M3TJDCz1g-i7",
    "outputId": "f1d35ddf-f197-4f10-aa9d-f587627a180f"
   },
   "outputs": [
    {
     "name": "stdout",
     "output_type": "stream",
     "text": [
      "[10 11 12 13 14 15 16 17 18 19 20 21 22 23 24 25 26 27 28 29 30 31 32 33\n",
      " 34 35 36 37 38 39 40 41 42 43 44 45 46 47 48 49]\n"
     ]
    }
   ],
   "source": [
    "arr = np.arange(10, 50)\n",
    "print(arr)"
   ]
  },
  {
   "cell_type": "code",
   "execution_count": 7,
   "metadata": {
    "id": "aJf_LVH9lO95"
   },
   "outputs": [],
   "source": [
    "#ejercicio4"
   ]
  },
  {
   "cell_type": "code",
   "execution_count": 8,
   "metadata": {
    "colab": {
     "base_uri": "https://localhost:8080/"
    },
    "id": "IWBKX2tKguGs",
    "outputId": "a99018b8-9195-4f43-a76d-cb35daef42d5"
   },
   "outputs": [
    {
     "name": "stdout",
     "output_type": "stream",
     "text": [
      "[[0 1 2]\n",
      " [3 4 5]\n",
      " [6 7 8]]\n"
     ]
    }
   ],
   "source": [
    "arr = np.arange(0, 9).reshape(3,3)\n",
    "print(arr)"
   ]
  },
  {
   "cell_type": "code",
   "execution_count": null,
   "metadata": {
    "id": "pS85BvhLlVYo"
   },
   "outputs": [],
   "source": [
    "#ejercicio5: Crear un arreglo de números aleatorios de longitud 100 y obtener su media y varianza"
   ]
  },
  {
   "cell_type": "code",
   "execution_count": 9,
   "metadata": {
    "colab": {
     "base_uri": "https://localhost:8080/"
    },
    "id": "Cly9U6BDez8E",
    "outputId": "0d126406-8e8f-4cc8-f0b6-00cc157b6e72"
   },
   "outputs": [
    {
     "name": "stdout",
     "output_type": "stream",
     "text": [
      "Media: 0.5232696827512509\n",
      "varianza: 0.08711286321794283\n"
     ]
    }
   ],
   "source": [
    "np.random.rand(100)\n",
    "my_array = np.random.rand(100)\n",
    "media = my_array.mean()\n",
    "var= my_array.var()\n",
    "\n",
    "print(\"Media:\", media)\n",
    "print(\"varianza:\",var)"
   ]
  },
  {
   "cell_type": "code",
   "execution_count": null,
   "metadata": {
    "id": "nSVN0GB6lmcl"
   },
   "outputs": [],
   "source": [
    "#ejercicio6: Calcular la media de un arreglo usando np.sum"
   ]
  },
  {
   "cell_type": "code",
   "execution_count": 11,
   "metadata": {
    "colab": {
     "base_uri": "https://localhost:8080/"
    },
    "id": "wjIj6NHvitDW",
    "outputId": "aa3dc6a8-ee57-4614-f6c1-c9390eb91eae"
   },
   "outputs": [
    {
     "name": "stdout",
     "output_type": "stream",
     "text": [
      "Media: 0.5401180856503263\n"
     ]
    }
   ],
   "source": [
    "my_array = np.random.rand(100)\n",
    "suma = np.sum(my_array) \n",
    "media = suma / len(my_array)  \n",
    "\n",
    "print(\"Media:\", media)"
   ]
  },
  {
   "cell_type": "code",
   "execution_count": 138,
   "metadata": {
    "id": "rprrFZZElZ7e"
   },
   "outputs": [],
   "source": [
    "#ejercicio 7: Calcular la varianza de un arreglo usando np.sum y np.mean"
   ]
  },
  {
   "cell_type": "code",
   "execution_count": 16,
   "metadata": {},
   "outputs": [
    {
     "name": "stdout",
     "output_type": "stream",
     "text": [
      "Varianza 0.08134112760345281\n"
     ]
    }
   ],
   "source": [
    "my_array = np.random.rand(50)\n",
    "media= my_array.mean()\n",
    "diferencias_al_cuadrado = (my_array - media) ** 2\n",
    "suma_total = np.sum(diferencias_al_cuadrado)\n",
    "varianza = suma_total / len(my_array)\n",
    "print(\"Varianza\",varianza)"
   ]
  },
  {
   "cell_type": "code",
   "execution_count": 20,
   "metadata": {
    "id": "KfQNeLQJl6J5"
   },
   "outputs": [],
   "source": [
    "#Ejercicio8\n",
    "#Crear un array de números aleatorios usando np.random.randn."
   ]
  },
  {
   "cell_type": "code",
   "execution_count": 23,
   "metadata": {},
   "outputs": [
    {
     "name": "stdout",
     "output_type": "stream",
     "text": [
      "[[-0.48946329 -0.20581847 -0.65920731]\n",
      " [-1.26639588  0.92648908 -0.27934055]\n",
      " [ 1.36981384 -1.41983829  0.52998086]\n",
      " [-1.33721184  1.15927162  0.85471039]\n",
      " [ 1.02485942 -0.90577355  1.28076039]\n",
      " [-0.13430435  0.54745327  1.41310417]\n",
      " [ 1.49937265  0.6697454   0.81308827]\n",
      " [ 0.43461687 -0.53228217  1.89359031]\n",
      " [-0.59711189 -0.66746913 -0.5237105 ]\n",
      " [ 0.37570264 -0.68826274 -0.09359157]]\n"
     ]
    }
   ],
   "source": [
    "total = np.random.randn(10, 3)\n",
    "print(total)"
   ]
  }
 ],
 "metadata": {
  "colab": {
   "provenance": []
  },
  "kernelspec": {
   "display_name": "Python 3 (ipykernel)",
   "language": "python",
   "name": "python3"
  },
  "language_info": {
   "codemirror_mode": {
    "name": "ipython",
    "version": 3
   },
   "file_extension": ".py",
   "mimetype": "text/x-python",
   "name": "python",
   "nbconvert_exporter": "python",
   "pygments_lexer": "ipython3",
   "version": "3.12.7"
  }
 },
 "nbformat": 4,
 "nbformat_minor": 4
}
