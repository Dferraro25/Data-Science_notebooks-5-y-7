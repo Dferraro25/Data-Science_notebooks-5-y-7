{
 "cells": [
  {
   "cell_type": "markdown",
   "metadata": {
    "id": "4CoLDDN0Scje"
   },
   "source": [
    "## Programa Ingenias+ Data Science"
   ]
  },
  {
   "cell_type": "code",
   "execution_count": 251,
   "metadata": {
    "id": "pgLvTMrWu2fr"
   },
   "outputs": [],
   "source": [
    "#from google.colab import drive\n",
    "#drive.mount('/content/drive')"
   ]
  },
  {
   "cell_type": "markdown",
   "metadata": {
    "id": "57kc_nckby-s"
   },
   "source": [
    "# Sección nueva"
   ]
  },
  {
   "cell_type": "markdown",
   "metadata": {
    "id": "Rkizi-vlScjg"
   },
   "source": [
    "## Trabajando con Pandas"
   ]
  },
  {
   "cell_type": "markdown",
   "metadata": {
    "id": "VRd6Ow_aScjg"
   },
   "source": [
    "1) Importa las librerias requeridas: `Pandas` y `NumPy`.  \n",
    "\n",
    "Una buena practica a la hora de escribir codigo es de comentar siempre que estoy haciendo (usando `#`) en la linea anterior. Por mas obvio que parezca lo que voy a hacer, puede ser que tenga que compartir el documento con otras personas y no sepan que quise hacer en cada linea. O que yo mismo lea el codigo tiempo despues y no recuerde porque lo hice."
   ]
  },
  {
   "cell_type": "code",
   "execution_count": 10,
   "metadata": {
    "id": "Anvt8yoSScji"
   },
   "outputs": [],
   "source": [
    "import numpy as np\n",
    "import pandas as pd "
   ]
  },
  {
   "cell_type": "markdown",
   "metadata": {
    "id": "5YWvHd--Scjl"
   },
   "source": [
    "2) Lee el archivo csv `life_expectancy_data` usando `pandas`. Guardalo en una variable llamada `expvida`."
   ]
  },
  {
   "cell_type": "code",
   "execution_count": 11,
   "metadata": {
    "colab": {
     "base_uri": "https://localhost:8080/",
     "height": 304
    },
    "id": "oM1b7mmxScjm",
    "outputId": "64fa5327-f192-48d6-9976-f85644ee5fe5",
    "scrolled": true
   },
   "outputs": [
    {
     "name": "stdout",
     "output_type": "stream",
     "text": [
      "          Country  Year      Status  Life expectancy (men)  \\\n",
      "0     Afghanistan  2015  Developing                     70   \n",
      "1     Afghanistan  2014  Developing                     59   \n",
      "2     Afghanistan  2013  Developing                     79   \n",
      "3     Afghanistan  2012  Developing                     65   \n",
      "4     Afghanistan  2011  Developing                     76   \n",
      "...           ...   ...         ...                    ...   \n",
      "2933     Zimbabwe  2004  Developing                     67   \n",
      "2934     Zimbabwe  2003  Developing                     62   \n",
      "2935     Zimbabwe  2002  Developing                     50   \n",
      "2936     Zimbabwe  2001  Developing                     66   \n",
      "2937     Zimbabwe  2000  Developing                     55   \n",
      "\n",
      "      Life expectancy(women)  Adult Mortality (men)  Adult Mortality (women)  \\\n",
      "0                         66                     67                       65   \n",
      "1                         67                     73                       85   \n",
      "2                         51                     87                       67   \n",
      "3                         81                     63                       91   \n",
      "4                         75                     57                       72   \n",
      "...                      ...                    ...                      ...   \n",
      "2933                      69                     62                       85   \n",
      "2934                      75                     96                       61   \n",
      "2935                      74                     55                       95   \n",
      "2936                      66                     74                       78   \n",
      "2937                      76                     76                       98   \n",
      "\n",
      "      Infant deaths  Alcohol  Percentage expenditure  ...  Polio  \\\n",
      "0                62     0.01               71.279624  ...    6.0   \n",
      "1                64     0.01               73.523582  ...   58.0   \n",
      "2                66     0.01               73.219243  ...   62.0   \n",
      "3                69     0.01               78.184215  ...   67.0   \n",
      "4                71     0.01                7.097109  ...   68.0   \n",
      "...             ...      ...                     ...  ...    ...   \n",
      "2933             27     4.36                0.000000  ...   67.0   \n",
      "2934             26     4.06                0.000000  ...    7.0   \n",
      "2935             25     4.43                0.000000  ...   73.0   \n",
      "2936             25     1.72                0.000000  ...   76.0   \n",
      "2937             24     1.68                0.000000  ...   78.0   \n",
      "\n",
      "      Total expenditure  Diphtheria   HIV/AIDS         GDP  Population  \\\n",
      "0                  8.16         65.0       0.1  584.259210  33736494.0   \n",
      "1                  8.18         62.0       0.1  612.696514    327582.0   \n",
      "2                  8.13         64.0       0.1  631.744976  31731688.0   \n",
      "3                  8.52         67.0       0.1  669.959000   3696958.0   \n",
      "4                  7.87         68.0       0.1   63.537231   2978599.0   \n",
      "...                 ...          ...       ...         ...         ...   \n",
      "2933               7.13         65.0      33.6  454.366654  12777511.0   \n",
      "2934               6.52         68.0      36.7  453.351155  12633897.0   \n",
      "2935               6.53         71.0      39.8   57.348340    125525.0   \n",
      "2936               6.16         75.0      42.1  548.587312  12366165.0   \n",
      "2937               7.10         78.0      43.5  547.358878  12222251.0   \n",
      "\n",
      "      thinness  1-19 years  thinness 5-9 years  \\\n",
      "0                     17.2                17.3   \n",
      "1                     17.5                17.5   \n",
      "2                     17.7                17.7   \n",
      "3                     17.9                18.0   \n",
      "4                     18.2                18.2   \n",
      "...                    ...                 ...   \n",
      "2933                   9.4                 9.4   \n",
      "2934                   9.8                 9.9   \n",
      "2935                   1.2                 1.3   \n",
      "2936                   1.6                 1.7   \n",
      "2937                  11.0                11.2   \n",
      "\n",
      "      Income composition of resources  Schooling  \n",
      "0                               0.479       10.1  \n",
      "1                               0.476       10.0  \n",
      "2                               0.470        9.9  \n",
      "3                               0.463        9.8  \n",
      "4                               0.454        9.5  \n",
      "...                               ...        ...  \n",
      "2933                            0.407        9.2  \n",
      "2934                            0.418        9.5  \n",
      "2935                            0.427       10.0  \n",
      "2936                            0.427        9.8  \n",
      "2937                            0.434        9.8  \n",
      "\n",
      "[2938 rows x 25 columns]\n"
     ]
    }
   ],
   "source": [
    "# Leo los datos en un DataFrame\n",
    "expvida = pd.read_csv('C:/Users/danie/Documents/NOTEBOOKS/NOTEBOOKS RESUELTOS/Life Expectancy Data v2.csv')\n",
    "print(expvida)"
   ]
  },
  {
   "cell_type": "markdown",
   "metadata": {
    "id": "-a1OoVvIScjp"
   },
   "source": [
    "3) ¿Que tipo de estructura de datos contiene la variable `expvida`?"
   ]
  },
  {
   "cell_type": "code",
   "execution_count": 12,
   "metadata": {
    "id": "7R6g46UGScjp"
   },
   "outputs": [
    {
     "data": {
      "text/plain": [
       "pandas.core.frame.DataFrame"
      ]
     },
     "execution_count": 12,
     "metadata": {},
     "output_type": "execute_result"
    }
   ],
   "source": [
    "# Obtengo el tipo de estructura de datos\n",
    "type(expvida)"
   ]
  },
  {
   "cell_type": "markdown",
   "metadata": {
    "id": "EBwmuoKKScjv"
   },
   "source": [
    "4) ¿Cuantas filas y columnas tiene `expvida`?"
   ]
  },
  {
   "cell_type": "code",
   "execution_count": 13,
   "metadata": {
    "id": "1oKt4xZmScjw"
   },
   "outputs": [
    {
     "name": "stdout",
     "output_type": "stream",
     "text": [
      "Expvida tiene\n",
      "\n",
      "Numero de filas: 2938\n",
      "\n",
      "Numero de columnas: 25\n"
     ]
    }
   ],
   "source": [
    "# Uso .shape para obtener cantidad de filas y columnas\n",
    "expvida.shape \n",
    "print(f\"Expvida tiene\\n\\nNumero de filas: {expvida.shape[0]}\\n\\nNumero de columnas: {expvida.shape[1]}\")"
   ]
  },
  {
   "cell_type": "markdown",
   "metadata": {
    "id": "V3cNAjIIScj1"
   },
   "source": [
    "5) ¿Cual es el nombre de las columnas contenidas en `expvida`?"
   ]
  },
  {
   "cell_type": "code",
   "execution_count": 14,
   "metadata": {
    "id": "Cr61t2ALScj2"
   },
   "outputs": [
    {
     "data": {
      "text/plain": [
       "Index(['Country', 'Year', 'Status', 'Life expectancy (men)',\n",
       "       'Life expectancy(women)', 'Adult Mortality (men)',\n",
       "       'Adult Mortality (women)', 'Infant deaths', 'Alcohol',\n",
       "       'Percentage expenditure', 'Hepatitis B(men)', 'Hepatitis B(women)',\n",
       "       'Measles', 'BMI', 'Under-five deaths', 'Polio', 'Total expenditure',\n",
       "       'Diphtheria ', 'HIV/AIDS', 'GDP', 'Population', 'thinness  1-19 years',\n",
       "       'thinness 5-9 years', 'Income composition of resources', 'Schooling'],\n",
       "      dtype='object')"
      ]
     },
     "execution_count": 14,
     "metadata": {},
     "output_type": "execute_result"
    }
   ],
   "source": [
    "# Obtengo el nombre de las columnas\n",
    "expvida.columns"
   ]
  },
  {
   "cell_type": "markdown",
   "metadata": {
    "id": "xbXCaw0mScj5"
   },
   "source": [
    "6) Inspecciona las primeras 10 filas de `expvida`"
   ]
  },
  {
   "cell_type": "code",
   "execution_count": 15,
   "metadata": {
    "id": "WSUs6-wmScj6"
   },
   "outputs": [
    {
     "data": {
      "text/html": [
       "<div>\n",
       "<style scoped>\n",
       "    .dataframe tbody tr th:only-of-type {\n",
       "        vertical-align: middle;\n",
       "    }\n",
       "\n",
       "    .dataframe tbody tr th {\n",
       "        vertical-align: top;\n",
       "    }\n",
       "\n",
       "    .dataframe thead th {\n",
       "        text-align: right;\n",
       "    }\n",
       "</style>\n",
       "<table border=\"1\" class=\"dataframe\">\n",
       "  <thead>\n",
       "    <tr style=\"text-align: right;\">\n",
       "      <th></th>\n",
       "      <th>Country</th>\n",
       "      <th>Year</th>\n",
       "      <th>Status</th>\n",
       "      <th>Life expectancy (men)</th>\n",
       "      <th>Life expectancy(women)</th>\n",
       "      <th>Adult Mortality (men)</th>\n",
       "      <th>Adult Mortality (women)</th>\n",
       "      <th>Infant deaths</th>\n",
       "      <th>Alcohol</th>\n",
       "      <th>Percentage expenditure</th>\n",
       "      <th>...</th>\n",
       "      <th>Polio</th>\n",
       "      <th>Total expenditure</th>\n",
       "      <th>Diphtheria</th>\n",
       "      <th>HIV/AIDS</th>\n",
       "      <th>GDP</th>\n",
       "      <th>Population</th>\n",
       "      <th>thinness  1-19 years</th>\n",
       "      <th>thinness 5-9 years</th>\n",
       "      <th>Income composition of resources</th>\n",
       "      <th>Schooling</th>\n",
       "    </tr>\n",
       "  </thead>\n",
       "  <tbody>\n",
       "    <tr>\n",
       "      <th>0</th>\n",
       "      <td>Afghanistan</td>\n",
       "      <td>2015</td>\n",
       "      <td>Developing</td>\n",
       "      <td>70</td>\n",
       "      <td>66</td>\n",
       "      <td>67</td>\n",
       "      <td>65</td>\n",
       "      <td>62</td>\n",
       "      <td>0.01</td>\n",
       "      <td>71.279624</td>\n",
       "      <td>...</td>\n",
       "      <td>6.0</td>\n",
       "      <td>8.16</td>\n",
       "      <td>65.0</td>\n",
       "      <td>0.1</td>\n",
       "      <td>584.259210</td>\n",
       "      <td>33736494.0</td>\n",
       "      <td>17.2</td>\n",
       "      <td>17.3</td>\n",
       "      <td>0.479</td>\n",
       "      <td>10.1</td>\n",
       "    </tr>\n",
       "    <tr>\n",
       "      <th>1</th>\n",
       "      <td>Afghanistan</td>\n",
       "      <td>2014</td>\n",
       "      <td>Developing</td>\n",
       "      <td>59</td>\n",
       "      <td>67</td>\n",
       "      <td>73</td>\n",
       "      <td>85</td>\n",
       "      <td>64</td>\n",
       "      <td>0.01</td>\n",
       "      <td>73.523582</td>\n",
       "      <td>...</td>\n",
       "      <td>58.0</td>\n",
       "      <td>8.18</td>\n",
       "      <td>62.0</td>\n",
       "      <td>0.1</td>\n",
       "      <td>612.696514</td>\n",
       "      <td>327582.0</td>\n",
       "      <td>17.5</td>\n",
       "      <td>17.5</td>\n",
       "      <td>0.476</td>\n",
       "      <td>10.0</td>\n",
       "    </tr>\n",
       "    <tr>\n",
       "      <th>2</th>\n",
       "      <td>Afghanistan</td>\n",
       "      <td>2013</td>\n",
       "      <td>Developing</td>\n",
       "      <td>79</td>\n",
       "      <td>51</td>\n",
       "      <td>87</td>\n",
       "      <td>67</td>\n",
       "      <td>66</td>\n",
       "      <td>0.01</td>\n",
       "      <td>73.219243</td>\n",
       "      <td>...</td>\n",
       "      <td>62.0</td>\n",
       "      <td>8.13</td>\n",
       "      <td>64.0</td>\n",
       "      <td>0.1</td>\n",
       "      <td>631.744976</td>\n",
       "      <td>31731688.0</td>\n",
       "      <td>17.7</td>\n",
       "      <td>17.7</td>\n",
       "      <td>0.470</td>\n",
       "      <td>9.9</td>\n",
       "    </tr>\n",
       "    <tr>\n",
       "      <th>3</th>\n",
       "      <td>Afghanistan</td>\n",
       "      <td>2012</td>\n",
       "      <td>Developing</td>\n",
       "      <td>65</td>\n",
       "      <td>81</td>\n",
       "      <td>63</td>\n",
       "      <td>91</td>\n",
       "      <td>69</td>\n",
       "      <td>0.01</td>\n",
       "      <td>78.184215</td>\n",
       "      <td>...</td>\n",
       "      <td>67.0</td>\n",
       "      <td>8.52</td>\n",
       "      <td>67.0</td>\n",
       "      <td>0.1</td>\n",
       "      <td>669.959000</td>\n",
       "      <td>3696958.0</td>\n",
       "      <td>17.9</td>\n",
       "      <td>18.0</td>\n",
       "      <td>0.463</td>\n",
       "      <td>9.8</td>\n",
       "    </tr>\n",
       "    <tr>\n",
       "      <th>4</th>\n",
       "      <td>Afghanistan</td>\n",
       "      <td>2011</td>\n",
       "      <td>Developing</td>\n",
       "      <td>76</td>\n",
       "      <td>75</td>\n",
       "      <td>57</td>\n",
       "      <td>72</td>\n",
       "      <td>71</td>\n",
       "      <td>0.01</td>\n",
       "      <td>7.097109</td>\n",
       "      <td>...</td>\n",
       "      <td>68.0</td>\n",
       "      <td>7.87</td>\n",
       "      <td>68.0</td>\n",
       "      <td>0.1</td>\n",
       "      <td>63.537231</td>\n",
       "      <td>2978599.0</td>\n",
       "      <td>18.2</td>\n",
       "      <td>18.2</td>\n",
       "      <td>0.454</td>\n",
       "      <td>9.5</td>\n",
       "    </tr>\n",
       "    <tr>\n",
       "      <th>5</th>\n",
       "      <td>Afghanistan</td>\n",
       "      <td>2010</td>\n",
       "      <td>Developing</td>\n",
       "      <td>51</td>\n",
       "      <td>77</td>\n",
       "      <td>71</td>\n",
       "      <td>57</td>\n",
       "      <td>74</td>\n",
       "      <td>0.01</td>\n",
       "      <td>79.679367</td>\n",
       "      <td>...</td>\n",
       "      <td>66.0</td>\n",
       "      <td>9.20</td>\n",
       "      <td>66.0</td>\n",
       "      <td>0.1</td>\n",
       "      <td>553.328940</td>\n",
       "      <td>2883167.0</td>\n",
       "      <td>18.4</td>\n",
       "      <td>18.4</td>\n",
       "      <td>0.448</td>\n",
       "      <td>9.2</td>\n",
       "    </tr>\n",
       "    <tr>\n",
       "      <th>6</th>\n",
       "      <td>Afghanistan</td>\n",
       "      <td>2009</td>\n",
       "      <td>Developing</td>\n",
       "      <td>77</td>\n",
       "      <td>67</td>\n",
       "      <td>84</td>\n",
       "      <td>100</td>\n",
       "      <td>77</td>\n",
       "      <td>0.01</td>\n",
       "      <td>56.762217</td>\n",
       "      <td>...</td>\n",
       "      <td>63.0</td>\n",
       "      <td>9.42</td>\n",
       "      <td>63.0</td>\n",
       "      <td>0.1</td>\n",
       "      <td>445.893298</td>\n",
       "      <td>284331.0</td>\n",
       "      <td>18.6</td>\n",
       "      <td>18.7</td>\n",
       "      <td>0.434</td>\n",
       "      <td>8.9</td>\n",
       "    </tr>\n",
       "    <tr>\n",
       "      <th>7</th>\n",
       "      <td>Afghanistan</td>\n",
       "      <td>2008</td>\n",
       "      <td>Developing</td>\n",
       "      <td>65</td>\n",
       "      <td>60</td>\n",
       "      <td>99</td>\n",
       "      <td>92</td>\n",
       "      <td>80</td>\n",
       "      <td>0.03</td>\n",
       "      <td>25.873925</td>\n",
       "      <td>...</td>\n",
       "      <td>64.0</td>\n",
       "      <td>8.33</td>\n",
       "      <td>64.0</td>\n",
       "      <td>0.1</td>\n",
       "      <td>373.361116</td>\n",
       "      <td>2729431.0</td>\n",
       "      <td>18.8</td>\n",
       "      <td>18.9</td>\n",
       "      <td>0.433</td>\n",
       "      <td>8.7</td>\n",
       "    </tr>\n",
       "    <tr>\n",
       "      <th>8</th>\n",
       "      <td>Afghanistan</td>\n",
       "      <td>2007</td>\n",
       "      <td>Developing</td>\n",
       "      <td>64</td>\n",
       "      <td>56</td>\n",
       "      <td>90</td>\n",
       "      <td>77</td>\n",
       "      <td>82</td>\n",
       "      <td>0.02</td>\n",
       "      <td>10.910156</td>\n",
       "      <td>...</td>\n",
       "      <td>63.0</td>\n",
       "      <td>6.73</td>\n",
       "      <td>63.0</td>\n",
       "      <td>0.1</td>\n",
       "      <td>369.835796</td>\n",
       "      <td>26616792.0</td>\n",
       "      <td>19.0</td>\n",
       "      <td>19.1</td>\n",
       "      <td>0.415</td>\n",
       "      <td>8.4</td>\n",
       "    </tr>\n",
       "    <tr>\n",
       "      <th>9</th>\n",
       "      <td>Afghanistan</td>\n",
       "      <td>2006</td>\n",
       "      <td>Developing</td>\n",
       "      <td>78</td>\n",
       "      <td>65</td>\n",
       "      <td>85</td>\n",
       "      <td>54</td>\n",
       "      <td>84</td>\n",
       "      <td>0.03</td>\n",
       "      <td>17.171518</td>\n",
       "      <td>...</td>\n",
       "      <td>58.0</td>\n",
       "      <td>7.43</td>\n",
       "      <td>58.0</td>\n",
       "      <td>0.1</td>\n",
       "      <td>272.563770</td>\n",
       "      <td>2589345.0</td>\n",
       "      <td>19.2</td>\n",
       "      <td>19.3</td>\n",
       "      <td>0.405</td>\n",
       "      <td>8.1</td>\n",
       "    </tr>\n",
       "  </tbody>\n",
       "</table>\n",
       "<p>10 rows × 25 columns</p>\n",
       "</div>"
      ],
      "text/plain": [
       "       Country  Year      Status  Life expectancy (men)  \\\n",
       "0  Afghanistan  2015  Developing                     70   \n",
       "1  Afghanistan  2014  Developing                     59   \n",
       "2  Afghanistan  2013  Developing                     79   \n",
       "3  Afghanistan  2012  Developing                     65   \n",
       "4  Afghanistan  2011  Developing                     76   \n",
       "5  Afghanistan  2010  Developing                     51   \n",
       "6  Afghanistan  2009  Developing                     77   \n",
       "7  Afghanistan  2008  Developing                     65   \n",
       "8  Afghanistan  2007  Developing                     64   \n",
       "9  Afghanistan  2006  Developing                     78   \n",
       "\n",
       "   Life expectancy(women)  Adult Mortality (men)  Adult Mortality (women)  \\\n",
       "0                      66                     67                       65   \n",
       "1                      67                     73                       85   \n",
       "2                      51                     87                       67   \n",
       "3                      81                     63                       91   \n",
       "4                      75                     57                       72   \n",
       "5                      77                     71                       57   \n",
       "6                      67                     84                      100   \n",
       "7                      60                     99                       92   \n",
       "8                      56                     90                       77   \n",
       "9                      65                     85                       54   \n",
       "\n",
       "   Infant deaths  Alcohol  Percentage expenditure  ...  Polio  \\\n",
       "0             62     0.01               71.279624  ...    6.0   \n",
       "1             64     0.01               73.523582  ...   58.0   \n",
       "2             66     0.01               73.219243  ...   62.0   \n",
       "3             69     0.01               78.184215  ...   67.0   \n",
       "4             71     0.01                7.097109  ...   68.0   \n",
       "5             74     0.01               79.679367  ...   66.0   \n",
       "6             77     0.01               56.762217  ...   63.0   \n",
       "7             80     0.03               25.873925  ...   64.0   \n",
       "8             82     0.02               10.910156  ...   63.0   \n",
       "9             84     0.03               17.171518  ...   58.0   \n",
       "\n",
       "   Total expenditure  Diphtheria   HIV/AIDS         GDP  Population  \\\n",
       "0               8.16         65.0       0.1  584.259210  33736494.0   \n",
       "1               8.18         62.0       0.1  612.696514    327582.0   \n",
       "2               8.13         64.0       0.1  631.744976  31731688.0   \n",
       "3               8.52         67.0       0.1  669.959000   3696958.0   \n",
       "4               7.87         68.0       0.1   63.537231   2978599.0   \n",
       "5               9.20         66.0       0.1  553.328940   2883167.0   \n",
       "6               9.42         63.0       0.1  445.893298    284331.0   \n",
       "7               8.33         64.0       0.1  373.361116   2729431.0   \n",
       "8               6.73         63.0       0.1  369.835796  26616792.0   \n",
       "9               7.43         58.0       0.1  272.563770   2589345.0   \n",
       "\n",
       "   thinness  1-19 years  thinness 5-9 years  Income composition of resources  \\\n",
       "0                  17.2                17.3                            0.479   \n",
       "1                  17.5                17.5                            0.476   \n",
       "2                  17.7                17.7                            0.470   \n",
       "3                  17.9                18.0                            0.463   \n",
       "4                  18.2                18.2                            0.454   \n",
       "5                  18.4                18.4                            0.448   \n",
       "6                  18.6                18.7                            0.434   \n",
       "7                  18.8                18.9                            0.433   \n",
       "8                  19.0                19.1                            0.415   \n",
       "9                  19.2                19.3                            0.405   \n",
       "\n",
       "   Schooling  \n",
       "0       10.1  \n",
       "1       10.0  \n",
       "2        9.9  \n",
       "3        9.8  \n",
       "4        9.5  \n",
       "5        9.2  \n",
       "6        8.9  \n",
       "7        8.7  \n",
       "8        8.4  \n",
       "9        8.1  \n",
       "\n",
       "[10 rows x 25 columns]"
      ]
     },
     "execution_count": 15,
     "metadata": {},
     "output_type": "execute_result"
    }
   ],
   "source": [
    "# Inspecciono las primeras filas\n",
    "expvida.head(10)"
   ]
  },
  {
   "cell_type": "markdown",
   "metadata": {
    "id": "99b7sMhZScj_"
   },
   "source": [
    "7) Y ahora las 10 ultimas."
   ]
  },
  {
   "cell_type": "code",
   "execution_count": 16,
   "metadata": {
    "id": "yaMMoHc7Scj_"
   },
   "outputs": [
    {
     "data": {
      "text/html": [
       "<div>\n",
       "<style scoped>\n",
       "    .dataframe tbody tr th:only-of-type {\n",
       "        vertical-align: middle;\n",
       "    }\n",
       "\n",
       "    .dataframe tbody tr th {\n",
       "        vertical-align: top;\n",
       "    }\n",
       "\n",
       "    .dataframe thead th {\n",
       "        text-align: right;\n",
       "    }\n",
       "</style>\n",
       "<table border=\"1\" class=\"dataframe\">\n",
       "  <thead>\n",
       "    <tr style=\"text-align: right;\">\n",
       "      <th></th>\n",
       "      <th>Country</th>\n",
       "      <th>Year</th>\n",
       "      <th>Status</th>\n",
       "      <th>Life expectancy (men)</th>\n",
       "      <th>Life expectancy(women)</th>\n",
       "      <th>Adult Mortality (men)</th>\n",
       "      <th>Adult Mortality (women)</th>\n",
       "      <th>Infant deaths</th>\n",
       "      <th>Alcohol</th>\n",
       "      <th>Percentage expenditure</th>\n",
       "      <th>...</th>\n",
       "      <th>Polio</th>\n",
       "      <th>Total expenditure</th>\n",
       "      <th>Diphtheria</th>\n",
       "      <th>HIV/AIDS</th>\n",
       "      <th>GDP</th>\n",
       "      <th>Population</th>\n",
       "      <th>thinness  1-19 years</th>\n",
       "      <th>thinness 5-9 years</th>\n",
       "      <th>Income composition of resources</th>\n",
       "      <th>Schooling</th>\n",
       "    </tr>\n",
       "  </thead>\n",
       "  <tbody>\n",
       "    <tr>\n",
       "      <th>2928</th>\n",
       "      <td>Zimbabwe</td>\n",
       "      <td>2009</td>\n",
       "      <td>Developing</td>\n",
       "      <td>56</td>\n",
       "      <td>69</td>\n",
       "      <td>65</td>\n",
       "      <td>91</td>\n",
       "      <td>30</td>\n",
       "      <td>4.64</td>\n",
       "      <td>1.040021</td>\n",
       "      <td>...</td>\n",
       "      <td>69.0</td>\n",
       "      <td>6.26</td>\n",
       "      <td>73.0</td>\n",
       "      <td>18.1</td>\n",
       "      <td>65.824121</td>\n",
       "      <td>1381599.0</td>\n",
       "      <td>7.5</td>\n",
       "      <td>7.4</td>\n",
       "      <td>0.419</td>\n",
       "      <td>9.9</td>\n",
       "    </tr>\n",
       "    <tr>\n",
       "      <th>2929</th>\n",
       "      <td>Zimbabwe</td>\n",
       "      <td>2008</td>\n",
       "      <td>Developing</td>\n",
       "      <td>71</td>\n",
       "      <td>54</td>\n",
       "      <td>51</td>\n",
       "      <td>94</td>\n",
       "      <td>30</td>\n",
       "      <td>3.56</td>\n",
       "      <td>20.843429</td>\n",
       "      <td>...</td>\n",
       "      <td>75.0</td>\n",
       "      <td>4.96</td>\n",
       "      <td>75.0</td>\n",
       "      <td>20.5</td>\n",
       "      <td>325.678573</td>\n",
       "      <td>13558469.0</td>\n",
       "      <td>7.8</td>\n",
       "      <td>7.8</td>\n",
       "      <td>0.421</td>\n",
       "      <td>9.7</td>\n",
       "    </tr>\n",
       "    <tr>\n",
       "      <th>2930</th>\n",
       "      <td>Zimbabwe</td>\n",
       "      <td>2007</td>\n",
       "      <td>Developing</td>\n",
       "      <td>59</td>\n",
       "      <td>53</td>\n",
       "      <td>57</td>\n",
       "      <td>86</td>\n",
       "      <td>29</td>\n",
       "      <td>3.88</td>\n",
       "      <td>29.814566</td>\n",
       "      <td>...</td>\n",
       "      <td>73.0</td>\n",
       "      <td>4.47</td>\n",
       "      <td>73.0</td>\n",
       "      <td>23.7</td>\n",
       "      <td>396.998217</td>\n",
       "      <td>1332999.0</td>\n",
       "      <td>8.2</td>\n",
       "      <td>8.2</td>\n",
       "      <td>0.414</td>\n",
       "      <td>9.6</td>\n",
       "    </tr>\n",
       "    <tr>\n",
       "      <th>2931</th>\n",
       "      <td>Zimbabwe</td>\n",
       "      <td>2006</td>\n",
       "      <td>Developing</td>\n",
       "      <td>53</td>\n",
       "      <td>74</td>\n",
       "      <td>57</td>\n",
       "      <td>92</td>\n",
       "      <td>28</td>\n",
       "      <td>4.57</td>\n",
       "      <td>34.262169</td>\n",
       "      <td>...</td>\n",
       "      <td>71.0</td>\n",
       "      <td>5.12</td>\n",
       "      <td>7.0</td>\n",
       "      <td>26.8</td>\n",
       "      <td>414.796232</td>\n",
       "      <td>13124267.0</td>\n",
       "      <td>8.6</td>\n",
       "      <td>8.6</td>\n",
       "      <td>0.408</td>\n",
       "      <td>9.5</td>\n",
       "    </tr>\n",
       "    <tr>\n",
       "      <th>2932</th>\n",
       "      <td>Zimbabwe</td>\n",
       "      <td>2005</td>\n",
       "      <td>Developing</td>\n",
       "      <td>52</td>\n",
       "      <td>84</td>\n",
       "      <td>50</td>\n",
       "      <td>82</td>\n",
       "      <td>28</td>\n",
       "      <td>4.14</td>\n",
       "      <td>8.717409</td>\n",
       "      <td>...</td>\n",
       "      <td>69.0</td>\n",
       "      <td>6.44</td>\n",
       "      <td>68.0</td>\n",
       "      <td>30.3</td>\n",
       "      <td>444.765750</td>\n",
       "      <td>129432.0</td>\n",
       "      <td>9.0</td>\n",
       "      <td>9.0</td>\n",
       "      <td>0.406</td>\n",
       "      <td>9.3</td>\n",
       "    </tr>\n",
       "    <tr>\n",
       "      <th>2933</th>\n",
       "      <td>Zimbabwe</td>\n",
       "      <td>2004</td>\n",
       "      <td>Developing</td>\n",
       "      <td>67</td>\n",
       "      <td>69</td>\n",
       "      <td>62</td>\n",
       "      <td>85</td>\n",
       "      <td>27</td>\n",
       "      <td>4.36</td>\n",
       "      <td>0.000000</td>\n",
       "      <td>...</td>\n",
       "      <td>67.0</td>\n",
       "      <td>7.13</td>\n",
       "      <td>65.0</td>\n",
       "      <td>33.6</td>\n",
       "      <td>454.366654</td>\n",
       "      <td>12777511.0</td>\n",
       "      <td>9.4</td>\n",
       "      <td>9.4</td>\n",
       "      <td>0.407</td>\n",
       "      <td>9.2</td>\n",
       "    </tr>\n",
       "    <tr>\n",
       "      <th>2934</th>\n",
       "      <td>Zimbabwe</td>\n",
       "      <td>2003</td>\n",
       "      <td>Developing</td>\n",
       "      <td>62</td>\n",
       "      <td>75</td>\n",
       "      <td>96</td>\n",
       "      <td>61</td>\n",
       "      <td>26</td>\n",
       "      <td>4.06</td>\n",
       "      <td>0.000000</td>\n",
       "      <td>...</td>\n",
       "      <td>7.0</td>\n",
       "      <td>6.52</td>\n",
       "      <td>68.0</td>\n",
       "      <td>36.7</td>\n",
       "      <td>453.351155</td>\n",
       "      <td>12633897.0</td>\n",
       "      <td>9.8</td>\n",
       "      <td>9.9</td>\n",
       "      <td>0.418</td>\n",
       "      <td>9.5</td>\n",
       "    </tr>\n",
       "    <tr>\n",
       "      <th>2935</th>\n",
       "      <td>Zimbabwe</td>\n",
       "      <td>2002</td>\n",
       "      <td>Developing</td>\n",
       "      <td>50</td>\n",
       "      <td>74</td>\n",
       "      <td>55</td>\n",
       "      <td>95</td>\n",
       "      <td>25</td>\n",
       "      <td>4.43</td>\n",
       "      <td>0.000000</td>\n",
       "      <td>...</td>\n",
       "      <td>73.0</td>\n",
       "      <td>6.53</td>\n",
       "      <td>71.0</td>\n",
       "      <td>39.8</td>\n",
       "      <td>57.348340</td>\n",
       "      <td>125525.0</td>\n",
       "      <td>1.2</td>\n",
       "      <td>1.3</td>\n",
       "      <td>0.427</td>\n",
       "      <td>10.0</td>\n",
       "    </tr>\n",
       "    <tr>\n",
       "      <th>2936</th>\n",
       "      <td>Zimbabwe</td>\n",
       "      <td>2001</td>\n",
       "      <td>Developing</td>\n",
       "      <td>66</td>\n",
       "      <td>66</td>\n",
       "      <td>74</td>\n",
       "      <td>78</td>\n",
       "      <td>25</td>\n",
       "      <td>1.72</td>\n",
       "      <td>0.000000</td>\n",
       "      <td>...</td>\n",
       "      <td>76.0</td>\n",
       "      <td>6.16</td>\n",
       "      <td>75.0</td>\n",
       "      <td>42.1</td>\n",
       "      <td>548.587312</td>\n",
       "      <td>12366165.0</td>\n",
       "      <td>1.6</td>\n",
       "      <td>1.7</td>\n",
       "      <td>0.427</td>\n",
       "      <td>9.8</td>\n",
       "    </tr>\n",
       "    <tr>\n",
       "      <th>2937</th>\n",
       "      <td>Zimbabwe</td>\n",
       "      <td>2000</td>\n",
       "      <td>Developing</td>\n",
       "      <td>55</td>\n",
       "      <td>76</td>\n",
       "      <td>76</td>\n",
       "      <td>98</td>\n",
       "      <td>24</td>\n",
       "      <td>1.68</td>\n",
       "      <td>0.000000</td>\n",
       "      <td>...</td>\n",
       "      <td>78.0</td>\n",
       "      <td>7.10</td>\n",
       "      <td>78.0</td>\n",
       "      <td>43.5</td>\n",
       "      <td>547.358878</td>\n",
       "      <td>12222251.0</td>\n",
       "      <td>11.0</td>\n",
       "      <td>11.2</td>\n",
       "      <td>0.434</td>\n",
       "      <td>9.8</td>\n",
       "    </tr>\n",
       "  </tbody>\n",
       "</table>\n",
       "<p>10 rows × 25 columns</p>\n",
       "</div>"
      ],
      "text/plain": [
       "       Country  Year      Status  Life expectancy (men)  \\\n",
       "2928  Zimbabwe  2009  Developing                     56   \n",
       "2929  Zimbabwe  2008  Developing                     71   \n",
       "2930  Zimbabwe  2007  Developing                     59   \n",
       "2931  Zimbabwe  2006  Developing                     53   \n",
       "2932  Zimbabwe  2005  Developing                     52   \n",
       "2933  Zimbabwe  2004  Developing                     67   \n",
       "2934  Zimbabwe  2003  Developing                     62   \n",
       "2935  Zimbabwe  2002  Developing                     50   \n",
       "2936  Zimbabwe  2001  Developing                     66   \n",
       "2937  Zimbabwe  2000  Developing                     55   \n",
       "\n",
       "      Life expectancy(women)  Adult Mortality (men)  Adult Mortality (women)  \\\n",
       "2928                      69                     65                       91   \n",
       "2929                      54                     51                       94   \n",
       "2930                      53                     57                       86   \n",
       "2931                      74                     57                       92   \n",
       "2932                      84                     50                       82   \n",
       "2933                      69                     62                       85   \n",
       "2934                      75                     96                       61   \n",
       "2935                      74                     55                       95   \n",
       "2936                      66                     74                       78   \n",
       "2937                      76                     76                       98   \n",
       "\n",
       "      Infant deaths  Alcohol  Percentage expenditure  ...  Polio  \\\n",
       "2928             30     4.64                1.040021  ...   69.0   \n",
       "2929             30     3.56               20.843429  ...   75.0   \n",
       "2930             29     3.88               29.814566  ...   73.0   \n",
       "2931             28     4.57               34.262169  ...   71.0   \n",
       "2932             28     4.14                8.717409  ...   69.0   \n",
       "2933             27     4.36                0.000000  ...   67.0   \n",
       "2934             26     4.06                0.000000  ...    7.0   \n",
       "2935             25     4.43                0.000000  ...   73.0   \n",
       "2936             25     1.72                0.000000  ...   76.0   \n",
       "2937             24     1.68                0.000000  ...   78.0   \n",
       "\n",
       "      Total expenditure  Diphtheria   HIV/AIDS         GDP  Population  \\\n",
       "2928               6.26         73.0      18.1   65.824121   1381599.0   \n",
       "2929               4.96         75.0      20.5  325.678573  13558469.0   \n",
       "2930               4.47         73.0      23.7  396.998217   1332999.0   \n",
       "2931               5.12          7.0      26.8  414.796232  13124267.0   \n",
       "2932               6.44         68.0      30.3  444.765750    129432.0   \n",
       "2933               7.13         65.0      33.6  454.366654  12777511.0   \n",
       "2934               6.52         68.0      36.7  453.351155  12633897.0   \n",
       "2935               6.53         71.0      39.8   57.348340    125525.0   \n",
       "2936               6.16         75.0      42.1  548.587312  12366165.0   \n",
       "2937               7.10         78.0      43.5  547.358878  12222251.0   \n",
       "\n",
       "      thinness  1-19 years  thinness 5-9 years  \\\n",
       "2928                   7.5                 7.4   \n",
       "2929                   7.8                 7.8   \n",
       "2930                   8.2                 8.2   \n",
       "2931                   8.6                 8.6   \n",
       "2932                   9.0                 9.0   \n",
       "2933                   9.4                 9.4   \n",
       "2934                   9.8                 9.9   \n",
       "2935                   1.2                 1.3   \n",
       "2936                   1.6                 1.7   \n",
       "2937                  11.0                11.2   \n",
       "\n",
       "      Income composition of resources  Schooling  \n",
       "2928                            0.419        9.9  \n",
       "2929                            0.421        9.7  \n",
       "2930                            0.414        9.6  \n",
       "2931                            0.408        9.5  \n",
       "2932                            0.406        9.3  \n",
       "2933                            0.407        9.2  \n",
       "2934                            0.418        9.5  \n",
       "2935                            0.427       10.0  \n",
       "2936                            0.427        9.8  \n",
       "2937                            0.434        9.8  \n",
       "\n",
       "[10 rows x 25 columns]"
      ]
     },
     "execution_count": 16,
     "metadata": {},
     "output_type": "execute_result"
    }
   ],
   "source": [
    "# Inspecciono las ultimas filas\n",
    "expvida.tail(10)"
   ]
  },
  {
   "cell_type": "markdown",
   "metadata": {
    "id": "thLRW3GjSckC"
   },
   "source": [
    "8) ¿Que tipos de datos contiene cada una de las columnas de `expvida`?"
   ]
  },
  {
   "cell_type": "code",
   "execution_count": 17,
   "metadata": {
    "id": "AfAgFAJdSckD"
   },
   "outputs": [
    {
     "data": {
      "text/plain": [
       "Country                             object\n",
       "Year                                 int64\n",
       "Status                              object\n",
       "Life expectancy (men)                int64\n",
       "Life expectancy(women)               int64\n",
       "Adult Mortality (men)                int64\n",
       "Adult Mortality (women)              int64\n",
       "Infant deaths                        int64\n",
       "Alcohol                            float64\n",
       "Percentage expenditure             float64\n",
       "Hepatitis B(men)                     int64\n",
       "Hepatitis B(women)                   int64\n",
       "Measles                              int64\n",
       "BMI                                float64\n",
       "Under-five deaths                    int64\n",
       "Polio                              float64\n",
       "Total expenditure                  float64\n",
       "Diphtheria                         float64\n",
       "HIV/AIDS                           float64\n",
       "GDP                                float64\n",
       "Population                         float64\n",
       "thinness  1-19 years               float64\n",
       "thinness 5-9 years                 float64\n",
       "Income composition of resources    float64\n",
       "Schooling                          float64\n",
       "dtype: object"
      ]
     },
     "execution_count": 17,
     "metadata": {},
     "output_type": "execute_result"
    }
   ],
   "source": [
    "# Tipo de datos en cada columna\n",
    "expvida.dtypes"
   ]
  },
  {
   "cell_type": "markdown",
   "metadata": {
    "id": "7Nsyhb7LSckG"
   },
   "source": [
    "9) ¿Hay valores faltantes en alguna de las columnas de `expvida`?"
   ]
  },
  {
   "cell_type": "code",
   "execution_count": 10,
   "metadata": {
    "id": "DP_IgUWzSckI"
   },
   "outputs": [
    {
     "data": {
      "text/plain": [
       "Country                              0\n",
       "Year                                 0\n",
       "Status                               0\n",
       "Life expectancy (men)                0\n",
       "Life expectancy(women)               0\n",
       "Adult Mortality (men)                0\n",
       "Adult Mortality (women)              0\n",
       "Infant deaths                        0\n",
       "Alcohol                            194\n",
       "Percentage expenditure               0\n",
       "Hepatitis B(men)                     0\n",
       "Hepatitis B(women)                   0\n",
       "Measles                              0\n",
       "BMI                                 34\n",
       "Under-five deaths                    0\n",
       "Polio                               19\n",
       "Total expenditure                  226\n",
       "Diphtheria                          19\n",
       "HIV/AIDS                             0\n",
       "GDP                                448\n",
       "Population                         652\n",
       "thinness  1-19 years                34\n",
       "thinness 5-9 years                  34\n",
       "Income composition of resources    167\n",
       "Schooling                          163\n",
       "dtype: int64"
      ]
     },
     "execution_count": 10,
     "metadata": {},
     "output_type": "execute_result"
    }
   ],
   "source": [
    "#Obtengo la cantidad de datos faltantes en cada columna\n",
    "expvida.isnull().sum()"
   ]
  },
  {
   "cell_type": "markdown",
   "metadata": {
    "id": "Q7-bL4tlSckL"
   },
   "source": [
    "10) Selecciona el maximo de datos faltantes. Calcula que porcentaje de los datos representan los datos faltantes."
   ]
  },
  {
   "cell_type": "code",
   "execution_count": 11,
   "metadata": {
    "colab": {
     "background_save": true
    },
    "id": "gicdHYh0SckM",
    "outputId": "a32d7250-f123-47a8-9e92-1e34648d1831"
   },
   "outputs": [
    {
     "name": "stdout",
     "output_type": "stream",
     "text": [
      "El valor máximo de datos faltantes es 652\n"
     ]
    }
   ],
   "source": [
    "# Obtengo el maximo valor de datos faltantes y lo guardo en la variable masnan\n",
    "masnan = expvida.isnull().sum().max()\n",
    "print(f\"El valor máximo de datos faltantes es {masnan}\")"
   ]
  },
  {
   "cell_type": "code",
   "execution_count": 12,
   "metadata": {
    "id": "RuRgzIFBSckT"
   },
   "outputs": [
    {
     "name": "stdout",
     "output_type": "stream",
     "text": [
      "El porcentaje de filas nulas es igual a 22.19 %\n"
     ]
    }
   ],
   "source": [
    "# Obtengo la cantidad de filas total y divido el maximo valor de datos faltantes por este numero\n",
    "# y lo multiplico por 100\n",
    "\n",
    "filas_total=expvida.shape[0]\n",
    "\n",
    "porcentaje = (masnan / filas_total) * 100\n",
    "\n",
    "print(f\"El porcentaje de filas nulas es igual a {porcentaje:.2f} %\")"
   ]
  },
  {
   "cell_type": "code",
   "execution_count": 13,
   "metadata": {
    "id": "1NIY9qQBSckX",
    "scrolled": true
   },
   "outputs": [
    {
     "name": "stdout",
     "output_type": "stream",
     "text": [
      "El porcentaje máximo de filas nulas es igual a 22.19 %\n"
     ]
    }
   ],
   "source": [
    "# Imprimo el maximo porcentaje de datos faltantes. Uso f-strings.\n",
    "\n",
    "print(f\"El porcentaje máximo de filas nulas es igual a {porcentaje:.2f} %\")"
   ]
  },
  {
   "cell_type": "code",
   "execution_count": null,
   "metadata": {},
   "outputs": [],
   "source": []
  },
  {
   "cell_type": "code",
   "execution_count": 18,
   "metadata": {
    "scrolled": true
   },
   "outputs": [
    {
     "data": {
      "text/html": [
       "<div>\n",
       "<style scoped>\n",
       "    .dataframe tbody tr th:only-of-type {\n",
       "        vertical-align: middle;\n",
       "    }\n",
       "\n",
       "    .dataframe tbody tr th {\n",
       "        vertical-align: top;\n",
       "    }\n",
       "\n",
       "    .dataframe thead th {\n",
       "        text-align: right;\n",
       "    }\n",
       "</style>\n",
       "<table border=\"1\" class=\"dataframe\">\n",
       "  <thead>\n",
       "    <tr style=\"text-align: right;\">\n",
       "      <th></th>\n",
       "      <th>Year</th>\n",
       "      <th>Life expectancy (men)</th>\n",
       "      <th>Life expectancy(women)</th>\n",
       "      <th>Adult Mortality (men)</th>\n",
       "      <th>Adult Mortality (women)</th>\n",
       "      <th>Infant deaths</th>\n",
       "      <th>Alcohol</th>\n",
       "      <th>Percentage expenditure</th>\n",
       "      <th>Hepatitis B(men)</th>\n",
       "      <th>Hepatitis B(women)</th>\n",
       "      <th>...</th>\n",
       "      <th>Polio</th>\n",
       "      <th>Total expenditure</th>\n",
       "      <th>Diphtheria</th>\n",
       "      <th>HIV/AIDS</th>\n",
       "      <th>GDP</th>\n",
       "      <th>Population</th>\n",
       "      <th>thinness  1-19 years</th>\n",
       "      <th>thinness 5-9 years</th>\n",
       "      <th>Income composition of resources</th>\n",
       "      <th>Schooling</th>\n",
       "    </tr>\n",
       "  </thead>\n",
       "  <tbody>\n",
       "    <tr>\n",
       "      <th>count</th>\n",
       "      <td>2938.000000</td>\n",
       "      <td>2938.000000</td>\n",
       "      <td>2938.000000</td>\n",
       "      <td>2938.000000</td>\n",
       "      <td>2938.000000</td>\n",
       "      <td>2938.000000</td>\n",
       "      <td>2744.000000</td>\n",
       "      <td>2938.000000</td>\n",
       "      <td>2938.000000</td>\n",
       "      <td>2938.000000</td>\n",
       "      <td>...</td>\n",
       "      <td>2919.000000</td>\n",
       "      <td>2712.00000</td>\n",
       "      <td>2919.000000</td>\n",
       "      <td>2938.000000</td>\n",
       "      <td>2490.000000</td>\n",
       "      <td>2.286000e+03</td>\n",
       "      <td>2904.000000</td>\n",
       "      <td>2904.000000</td>\n",
       "      <td>2771.000000</td>\n",
       "      <td>2775.000000</td>\n",
       "    </tr>\n",
       "    <tr>\n",
       "      <th>mean</th>\n",
       "      <td>2007.518720</td>\n",
       "      <td>67.710007</td>\n",
       "      <td>67.629340</td>\n",
       "      <td>74.732811</td>\n",
       "      <td>74.558203</td>\n",
       "      <td>30.303948</td>\n",
       "      <td>4.602861</td>\n",
       "      <td>738.251295</td>\n",
       "      <td>46.011572</td>\n",
       "      <td>46.469707</td>\n",
       "      <td>...</td>\n",
       "      <td>82.550188</td>\n",
       "      <td>5.93819</td>\n",
       "      <td>82.324084</td>\n",
       "      <td>1.742103</td>\n",
       "      <td>7483.158469</td>\n",
       "      <td>1.275338e+07</td>\n",
       "      <td>4.839704</td>\n",
       "      <td>4.870317</td>\n",
       "      <td>0.627551</td>\n",
       "      <td>11.992793</td>\n",
       "    </tr>\n",
       "    <tr>\n",
       "      <th>std</th>\n",
       "      <td>4.613841</td>\n",
       "      <td>10.346219</td>\n",
       "      <td>10.325241</td>\n",
       "      <td>14.728866</td>\n",
       "      <td>14.682064</td>\n",
       "      <td>117.926501</td>\n",
       "      <td>4.052413</td>\n",
       "      <td>1987.914858</td>\n",
       "      <td>16.558741</td>\n",
       "      <td>16.891266</td>\n",
       "      <td>...</td>\n",
       "      <td>23.428046</td>\n",
       "      <td>2.49832</td>\n",
       "      <td>23.716912</td>\n",
       "      <td>5.077785</td>\n",
       "      <td>14270.169342</td>\n",
       "      <td>6.101210e+07</td>\n",
       "      <td>4.420195</td>\n",
       "      <td>4.508882</td>\n",
       "      <td>0.210904</td>\n",
       "      <td>3.358920</td>\n",
       "    </tr>\n",
       "    <tr>\n",
       "      <th>min</th>\n",
       "      <td>2000.000000</td>\n",
       "      <td>50.000000</td>\n",
       "      <td>50.000000</td>\n",
       "      <td>50.000000</td>\n",
       "      <td>50.000000</td>\n",
       "      <td>0.000000</td>\n",
       "      <td>0.010000</td>\n",
       "      <td>0.000000</td>\n",
       "      <td>18.000000</td>\n",
       "      <td>18.000000</td>\n",
       "      <td>...</td>\n",
       "      <td>3.000000</td>\n",
       "      <td>0.37000</td>\n",
       "      <td>2.000000</td>\n",
       "      <td>0.100000</td>\n",
       "      <td>1.681350</td>\n",
       "      <td>3.400000e+01</td>\n",
       "      <td>0.100000</td>\n",
       "      <td>0.100000</td>\n",
       "      <td>0.000000</td>\n",
       "      <td>0.000000</td>\n",
       "    </tr>\n",
       "    <tr>\n",
       "      <th>25%</th>\n",
       "      <td>2004.000000</td>\n",
       "      <td>59.000000</td>\n",
       "      <td>59.000000</td>\n",
       "      <td>62.000000</td>\n",
       "      <td>62.000000</td>\n",
       "      <td>0.000000</td>\n",
       "      <td>0.877500</td>\n",
       "      <td>4.685343</td>\n",
       "      <td>31.000000</td>\n",
       "      <td>32.000000</td>\n",
       "      <td>...</td>\n",
       "      <td>78.000000</td>\n",
       "      <td>4.26000</td>\n",
       "      <td>78.000000</td>\n",
       "      <td>0.100000</td>\n",
       "      <td>463.935626</td>\n",
       "      <td>1.957932e+05</td>\n",
       "      <td>1.600000</td>\n",
       "      <td>1.500000</td>\n",
       "      <td>0.493000</td>\n",
       "      <td>10.100000</td>\n",
       "    </tr>\n",
       "    <tr>\n",
       "      <th>50%</th>\n",
       "      <td>2008.000000</td>\n",
       "      <td>68.000000</td>\n",
       "      <td>67.500000</td>\n",
       "      <td>74.500000</td>\n",
       "      <td>74.000000</td>\n",
       "      <td>3.000000</td>\n",
       "      <td>3.755000</td>\n",
       "      <td>64.912906</td>\n",
       "      <td>46.000000</td>\n",
       "      <td>46.000000</td>\n",
       "      <td>...</td>\n",
       "      <td>93.000000</td>\n",
       "      <td>5.75500</td>\n",
       "      <td>93.000000</td>\n",
       "      <td>0.100000</td>\n",
       "      <td>1766.947595</td>\n",
       "      <td>1.386542e+06</td>\n",
       "      <td>3.300000</td>\n",
       "      <td>3.300000</td>\n",
       "      <td>0.677000</td>\n",
       "      <td>12.300000</td>\n",
       "    </tr>\n",
       "    <tr>\n",
       "      <th>75%</th>\n",
       "      <td>2012.000000</td>\n",
       "      <td>77.000000</td>\n",
       "      <td>76.000000</td>\n",
       "      <td>87.000000</td>\n",
       "      <td>87.000000</td>\n",
       "      <td>22.000000</td>\n",
       "      <td>7.702500</td>\n",
       "      <td>441.534144</td>\n",
       "      <td>60.000000</td>\n",
       "      <td>61.000000</td>\n",
       "      <td>...</td>\n",
       "      <td>97.000000</td>\n",
       "      <td>7.49250</td>\n",
       "      <td>97.000000</td>\n",
       "      <td>0.800000</td>\n",
       "      <td>5910.806335</td>\n",
       "      <td>7.420359e+06</td>\n",
       "      <td>7.200000</td>\n",
       "      <td>7.200000</td>\n",
       "      <td>0.779000</td>\n",
       "      <td>14.300000</td>\n",
       "    </tr>\n",
       "    <tr>\n",
       "      <th>max</th>\n",
       "      <td>2015.000000</td>\n",
       "      <td>85.000000</td>\n",
       "      <td>85.000000</td>\n",
       "      <td>100.000000</td>\n",
       "      <td>100.000000</td>\n",
       "      <td>1800.000000</td>\n",
       "      <td>17.870000</td>\n",
       "      <td>19479.911610</td>\n",
       "      <td>75.000000</td>\n",
       "      <td>75.000000</td>\n",
       "      <td>...</td>\n",
       "      <td>99.000000</td>\n",
       "      <td>17.60000</td>\n",
       "      <td>99.000000</td>\n",
       "      <td>50.600000</td>\n",
       "      <td>119172.741800</td>\n",
       "      <td>1.293859e+09</td>\n",
       "      <td>27.700000</td>\n",
       "      <td>28.600000</td>\n",
       "      <td>0.948000</td>\n",
       "      <td>20.700000</td>\n",
       "    </tr>\n",
       "  </tbody>\n",
       "</table>\n",
       "<p>8 rows × 23 columns</p>\n",
       "</div>"
      ],
      "text/plain": [
       "              Year  Life expectancy (men)  Life expectancy(women)  \\\n",
       "count  2938.000000            2938.000000             2938.000000   \n",
       "mean   2007.518720              67.710007               67.629340   \n",
       "std       4.613841              10.346219               10.325241   \n",
       "min    2000.000000              50.000000               50.000000   \n",
       "25%    2004.000000              59.000000               59.000000   \n",
       "50%    2008.000000              68.000000               67.500000   \n",
       "75%    2012.000000              77.000000               76.000000   \n",
       "max    2015.000000              85.000000               85.000000   \n",
       "\n",
       "       Adult Mortality (men)  Adult Mortality (women)  Infant deaths  \\\n",
       "count            2938.000000              2938.000000    2938.000000   \n",
       "mean               74.732811                74.558203      30.303948   \n",
       "std                14.728866                14.682064     117.926501   \n",
       "min                50.000000                50.000000       0.000000   \n",
       "25%                62.000000                62.000000       0.000000   \n",
       "50%                74.500000                74.000000       3.000000   \n",
       "75%                87.000000                87.000000      22.000000   \n",
       "max               100.000000               100.000000    1800.000000   \n",
       "\n",
       "           Alcohol  Percentage expenditure  Hepatitis B(men)  \\\n",
       "count  2744.000000             2938.000000       2938.000000   \n",
       "mean      4.602861              738.251295         46.011572   \n",
       "std       4.052413             1987.914858         16.558741   \n",
       "min       0.010000                0.000000         18.000000   \n",
       "25%       0.877500                4.685343         31.000000   \n",
       "50%       3.755000               64.912906         46.000000   \n",
       "75%       7.702500              441.534144         60.000000   \n",
       "max      17.870000            19479.911610         75.000000   \n",
       "\n",
       "       Hepatitis B(women)  ...        Polio  Total expenditure  Diphtheria   \\\n",
       "count         2938.000000  ...  2919.000000         2712.00000  2919.000000   \n",
       "mean            46.469707  ...    82.550188            5.93819    82.324084   \n",
       "std             16.891266  ...    23.428046            2.49832    23.716912   \n",
       "min             18.000000  ...     3.000000            0.37000     2.000000   \n",
       "25%             32.000000  ...    78.000000            4.26000    78.000000   \n",
       "50%             46.000000  ...    93.000000            5.75500    93.000000   \n",
       "75%             61.000000  ...    97.000000            7.49250    97.000000   \n",
       "max             75.000000  ...    99.000000           17.60000    99.000000   \n",
       "\n",
       "          HIV/AIDS            GDP    Population  thinness  1-19 years  \\\n",
       "count  2938.000000    2490.000000  2.286000e+03           2904.000000   \n",
       "mean      1.742103    7483.158469  1.275338e+07              4.839704   \n",
       "std       5.077785   14270.169342  6.101210e+07              4.420195   \n",
       "min       0.100000       1.681350  3.400000e+01              0.100000   \n",
       "25%       0.100000     463.935626  1.957932e+05              1.600000   \n",
       "50%       0.100000    1766.947595  1.386542e+06              3.300000   \n",
       "75%       0.800000    5910.806335  7.420359e+06              7.200000   \n",
       "max      50.600000  119172.741800  1.293859e+09             27.700000   \n",
       "\n",
       "       thinness 5-9 years  Income composition of resources    Schooling  \n",
       "count         2904.000000                      2771.000000  2775.000000  \n",
       "mean             4.870317                         0.627551    11.992793  \n",
       "std              4.508882                         0.210904     3.358920  \n",
       "min              0.100000                         0.000000     0.000000  \n",
       "25%              1.500000                         0.493000    10.100000  \n",
       "50%              3.300000                         0.677000    12.300000  \n",
       "75%              7.200000                         0.779000    14.300000  \n",
       "max             28.600000                         0.948000    20.700000  \n",
       "\n",
       "[8 rows x 23 columns]"
      ]
     },
     "execution_count": 18,
     "metadata": {},
     "output_type": "execute_result"
    }
   ],
   "source": [
    "expvida.describe()"
   ]
  },
  {
   "cell_type": "code",
   "execution_count": null,
   "metadata": {},
   "outputs": [],
   "source": []
  },
  {
   "cell_type": "markdown",
   "metadata": {
    "id": "r0ukORx9Sckg"
   },
   "source": [
    "- str.format()\n",
    "- Template Class\n",
    "- f-strings"
   ]
  },
  {
   "cell_type": "markdown",
   "metadata": {
    "id": "hUXqdma_Sckj"
   },
   "source": [
    "#### Ahora vamos a realizar algunos calculos y manipulaciones sobre las columnas.\n",
    "\n",
    "> Agregar bloque entrecomillado\n",
    "\n"
   ]
  },
  {
   "cell_type": "markdown",
   "metadata": {
    "id": "eBzg8GYGSckk"
   },
   "source": [
    "Una función útil para este fin es: `.rename()`. Y podemos utilizarla de la siguiente manera: Si `df` es mi DataFrame y quiero renombrar la columna `columna` como `columna1`, y la columna `columna2` como `columna3`, utilizo la siguiente sintaxis:\n",
    "  \n",
    "`df.rename(columns={\"columna\": \"columna1\", \"columna2\": \"columna3\"}, inplace=True)`"
   ]
  },
  {
   "cell_type": "markdown",
   "metadata": {
    "id": "EYINiSHdSckl"
   },
   "source": [
    "11) Renombra la columna 'Life expectancy ' como 'life_expectancy', ' BMI ' como 'bmi' y ''Measles ' como 'measles'. No olvides de usar `inplace` para modificar el DataFrame original. Luego chequea que el cambio se haya hecho correctamente."
   ]
  },
  {
   "cell_type": "code",
   "execution_count": 21,
   "metadata": {
    "id": "TL4b2ueXSckm"
   },
   "outputs": [],
   "source": [
    "# Renombro columnas del DataFrame\n",
    "expvida = expvida.rename(columns={'Life expectancy(women)': 'life expectancy(women)', 'BMI': 'bmi', 'Measles': 'measles'})"
   ]
  },
  {
   "cell_type": "code",
   "execution_count": 22,
   "metadata": {
    "id": "r1RVoERMSckp"
   },
   "outputs": [
    {
     "name": "stdout",
     "output_type": "stream",
     "text": [
      "['Country', 'Year', 'Status', 'Life expectancy (men)', 'life expectancy(women)', 'Adult Mortality (men)', 'Adult Mortality (women)', 'Infant deaths', 'Alcohol', 'Percentage expenditure', 'Hepatitis B(men)', 'Hepatitis B(women)', 'measles', 'bmi', 'Under-five deaths', 'Polio', 'Total expenditure', 'Diphtheria ', 'HIV/AIDS', 'GDP', 'Population', 'thinness  1-19 years', 'thinness 5-9 years', 'Income composition of resources', 'Schooling']\n"
     ]
    }
   ],
   "source": [
    "# Chequeo que se hayan reemplazado correctamente\n",
    "print(expvida.columns.tolist())"
   ]
  },
  {
   "cell_type": "markdown",
   "metadata": {
    "id": "cNXpOsdiScks"
   },
   "source": [
    "12) ¿Cual es el promedio de expectativa de vida (Life expectancy) en general?"
   ]
  },
  {
   "cell_type": "code",
   "execution_count": 23,
   "metadata": {
    "colab": {
     "base_uri": "https://localhost:8080/",
     "height": 108
    },
    "id": "OYv3yiXmSckt",
    "outputId": "31536fb3-789c-4896-f71a-a7eff0be358e"
   },
   "outputs": [
    {
     "name": "stdout",
     "output_type": "stream",
     "text": [
      "El promedio de life expectancy(women) es: 67.63\n"
     ]
    }
   ],
   "source": [
    "# Obtengo el promedio de la columna\n",
    "promedio = expvida['life expectancy(women)'].mean()\n",
    "\n",
    "# Imprimir el promedio con 2 decimales\n",
    "print(f\"El promedio de life expectancy(women) es: {promedio:.2f}\")"
   ]
  },
  {
   "cell_type": "markdown",
   "metadata": {
    "id": "A-bzQhFqSckw"
   },
   "source": [
    "13) ¿Cual es el promedio de expectativa de vida (Life expectancy) por país?"
   ]
  },
  {
   "cell_type": "code",
   "execution_count": 24,
   "metadata": {
    "id": "eWN_AJPMSckx",
    "scrolled": true
   },
   "outputs": [
    {
     "name": "stdout",
     "output_type": "stream",
     "text": [
      "Country\n",
      "Afghanistan                           65.2500\n",
      "Albania                               67.5625\n",
      "Algeria                               66.6250\n",
      "Angola                                67.0625\n",
      "Antigua and Barbuda                   71.3750\n",
      "                                       ...   \n",
      "Venezuela (Bolivarian Republic of)    70.0000\n",
      "Viet Nam                              68.8750\n",
      "Yemen                                 67.6250\n",
      "Zambia                                70.5000\n",
      "Zimbabwe                              69.4375\n",
      "Name: life expectancy(women), Length: 193, dtype: float64\n"
     ]
    }
   ],
   "source": [
    "# Obtengo el promedio por pais\n",
    "# Agrupar por país y calcular el promedio de expectativa de vida por país\n",
    "promedio_por_pais = expvida.groupby('Country')['life expectancy(women)'].mean()\n",
    "print(promedio_por_pais)"
   ]
  },
  {
   "cell_type": "markdown",
   "metadata": {
    "id": "YIopZIPrSck0"
   },
   "source": [
    "14) ¿Cual es la expectativa de vida mas alta y mas baja? Usa la funcion de pandas y la funcion de NumPy y compara el resultado. ¿Que paises tienen esas expectativas de vida?"
   ]
  },
  {
   "cell_type": "code",
   "execution_count": 25,
   "metadata": {
    "id": "gU8js5J8Sck0"
   },
   "outputs": [
    {
     "name": "stdout",
     "output_type": "stream",
     "text": [
      "Máxima expectativa women de vida con NumPy: 85\n"
     ]
    }
   ],
   "source": [
    "# Maxima expectativa de vida usando numpy\n",
    "import numpy as np\n",
    "max_vida_numpy = np.max(expvida['life expectancy(women)'])\n",
    "print(f\"Máxima expectativa women de vida con NumPy: {max_vida_numpy}\")"
   ]
  },
  {
   "cell_type": "code",
   "execution_count": 26,
   "metadata": {
    "id": "_JyNdRuESck2"
   },
   "outputs": [
    {
     "name": "stdout",
     "output_type": "stream",
     "text": [
      "Máxima expectativa de vida con Pandas: 85\n"
     ]
    }
   ],
   "source": [
    "# Maxima expectativa de vida usando pandas\n",
    "max_vida_pandas = expvida['life expectancy(women)'].max()\n",
    "print(f\"Máxima expectativa de vida con Pandas: {max_vida_pandas}\")"
   ]
  },
  {
   "cell_type": "code",
   "execution_count": 27,
   "metadata": {
    "id": "pTCZ9VJXSck4"
   },
   "outputs": [
    {
     "name": "stdout",
     "output_type": "stream",
     "text": [
      "Mínima expectativa de vida con NumPy: 50\n"
     ]
    }
   ],
   "source": [
    "# Minima expectativa de vida usando numpy\n",
    "min_vida_numpy = np.min(expvida['life expectancy(women)'])\n",
    "print(f\"Mínima expectativa de vida con NumPy: {min_vida_numpy}\")"
   ]
  },
  {
   "cell_type": "code",
   "execution_count": 28,
   "metadata": {
    "id": "BbJ9nW_LSck6"
   },
   "outputs": [
    {
     "name": "stdout",
     "output_type": "stream",
     "text": [
      "Mínima expectativa de vida con Pandas: 50\n"
     ]
    }
   ],
   "source": [
    "# Minima expectativa de vida usando pandas\n",
    "min_vida_pandas = expvida['life expectancy(women)'].min()\n",
    "print(f\"Mínima expectativa de vida con Pandas: {min_vida_pandas}\")"
   ]
  },
  {
   "cell_type": "code",
   "execution_count": 29,
   "metadata": {
    "id": "R83PS8f8Sck8"
   },
   "outputs": [
    {
     "name": "stdout",
     "output_type": "stream",
     "text": [
      "País(es) con la máxima expectativa de vida: ['Albania' 'Argentina' 'Austria' 'Azerbaijan' 'Bangladesh' 'Belize'\n",
      " 'Bosnia and Herzegovina' 'Botswana' 'Brazil' 'Brunei Darussalam'\n",
      " 'Cambodia' 'Canada' 'Chad' 'Colombia' 'Comoros' 'Congo' 'Croatia' 'Cuba'\n",
      " 'Egypt' 'El Salvador' 'Equatorial Guinea' 'Gabon' 'Georgia'\n",
      " 'Guinea-Bissau' 'Guyana' 'Honduras' 'Iceland' 'Iraq' 'Italy' 'Jamaica'\n",
      " 'Japan' 'Jordan' 'Kazakhstan' 'Kiribati'\n",
      " \"Lao People's Democratic Republic\" 'Lithuania' 'Madagascar' 'Mozambique'\n",
      " 'Myanmar' 'Nepal' 'Netherlands' 'New Zealand' 'Nigeria' 'Norway' 'Oman'\n",
      " 'Pakistan' 'Paraguay' 'Poland' 'Portugal' 'Qatar' 'Russian Federation'\n",
      " 'Rwanda' 'Saint Kitts and Nevis' 'Serbia' 'Seychelles' 'Singapore'\n",
      " 'Solomon Islands' 'Somalia' 'South Sudan' 'Spain' 'Sweden' 'Switzerland'\n",
      " 'Thailand' 'The former Yugoslav republic of Macedonia'\n",
      " 'Trinidad and Tobago' 'Turkey' 'Uganda' 'Viet Nam']\n"
     ]
    }
   ],
   "source": [
    "# Muestro los resultados maximos\n",
    "paises_max = expvida[expvida['life expectancy(women)'] == max_vida_pandas]['Country'].unique()\n",
    "print(f\"País(es) con la máxima expectativa de vida: {paises_max}\")"
   ]
  },
  {
   "cell_type": "code",
   "execution_count": 30,
   "metadata": {
    "id": "jUZlYu3BSck_"
   },
   "outputs": [
    {
     "name": "stdout",
     "output_type": "stream",
     "text": [
      "País(es) con la mínima expectativa de vida: ['Armenia' 'Azerbaijan' 'Bahamas' 'Bahrain' 'Belarus' 'Brazil'\n",
      " 'Brunei Darussalam' 'Burkina Faso' 'Cambodia' 'Cameroon' 'Canada' 'Chile'\n",
      " 'China' 'Comoros' 'Costa Rica' 'Croatia' 'Cuba' 'Czechia'\n",
      " 'Democratic Republic of the Congo' 'Denmark' 'Equatorial Guinea' 'France'\n",
      " 'Gambia' 'Germany' 'Ghana' 'Greece' 'Grenada' 'Guinea'\n",
      " 'Iran (Islamic Republic of)' 'Iraq' 'Ireland' 'Kenya' 'Kuwait' 'Lesotho'\n",
      " 'Malawi' 'Mali' 'Malta' 'Micronesia (Federated States of)' 'Niue' 'Oman'\n",
      " 'Papua New Guinea' 'Paraguay' 'Poland' 'Qatar' 'Republic of Moldova'\n",
      " 'Russian Federation' 'Rwanda' 'Saudi Arabia' 'Slovakia' 'Somalia' 'Spain'\n",
      " 'Sri Lanka' 'Sudan' 'Suriname' 'Swaziland' 'Sweden' 'Switzerland'\n",
      " 'Tajikistan' 'The former Yugoslav republic of Macedonia' 'Turkey'\n",
      " 'Turkmenistan' 'Uganda' 'United Arab Emirates'\n",
      " 'United Republic of Tanzania' 'Uzbekistan' 'Yemen']\n"
     ]
    }
   ],
   "source": [
    "# Muestro los resultados minimos\n",
    "paises_min = expvida[expvida['life expectancy(women)'] == min_vida_pandas]['Country'].unique()\n",
    "print(f\"País(es) con la mínima expectativa de vida: {paises_min}\")"
   ]
  },
  {
   "cell_type": "code",
   "execution_count": 32,
   "metadata": {
    "id": "et_RZ44GSclB"
   },
   "outputs": [
    {
     "name": "stdout",
     "output_type": "stream",
     "text": [
      "                  Country  Year      Status  Life expectancy (men)  \\\n",
      "29                Albania  2002  Developing                     76   \n",
      "89              Argentina  2006  Developing                     74   \n",
      "130               Austria  2013   Developed                     69   \n",
      "151            Azerbaijan  2008  Developing                     57   \n",
      "204            Bangladesh  2003  Developing                     58   \n",
      "...                   ...   ...         ...                    ...   \n",
      "2650  Trinidad and Tobago  2014  Developing                     50   \n",
      "2661  Trinidad and Tobago  2003  Developing                     80   \n",
      "2696               Turkey  2000  Developing                     79   \n",
      "2718               Uganda  2011  Developing                     80   \n",
      "2877             Viet Nam  2012  Developing                     54   \n",
      "\n",
      "      life expectancy(women)  Adult Mortality (men)  Adult Mortality (women)  \\\n",
      "29                        85                     57                       55   \n",
      "89                        85                     94                       70   \n",
      "130                       85                     82                       88   \n",
      "151                       85                     80                       63   \n",
      "204                       85                     82                       61   \n",
      "...                      ...                    ...                      ...   \n",
      "2650                      85                     55                       52   \n",
      "2661                      85                     67                       61   \n",
      "2696                      85                     66                       67   \n",
      "2718                      85                     58                       87   \n",
      "2877                      85                     85                       59   \n",
      "\n",
      "      Infant deaths  Alcohol  Percentage expenditure  ...  Polio  \\\n",
      "29                1     3.73              104.516916  ...   98.0   \n",
      "89               11     7.75              961.177468  ...   92.0   \n",
      "130               0    11.82               90.585012  ...   95.0   \n",
      "151               6     1.18              206.261613  ...   85.0   \n",
      "204             196     0.01               35.484590  ...    9.0   \n",
      "...             ...      ...                     ...  ...    ...   \n",
      "2650              0     6.94             1578.872339  ...   94.0   \n",
      "2661              0     5.53               78.722161  ...   91.0   \n",
      "2696             44     1.54              421.295660  ...   85.0   \n",
      "2718             76    10.22               94.496868  ...   82.0   \n",
      "2877             29     4.12                0.000000  ...   97.0   \n",
      "\n",
      "      Total expenditure  Diphtheria   HIV/AIDS           GDP  Population  \\\n",
      "29                 6.30         98.0       0.1   1453.642777      3511.0   \n",
      "89                 6.68         91.0       0.1   5878.761270   3955889.0   \n",
      "130               11.14         95.0       0.1    554.715320   8479375.0   \n",
      "151                4.37         81.0       0.1   5574.638200     87634.0   \n",
      "204                2.51         87.0       0.1    432.738897    139191.0   \n",
      "...                 ...          ...       ...           ...         ...   \n",
      "2650               5.93         92.0       0.3  19325.242830   1354493.0   \n",
      "2661               5.13         91.0       0.5    884.518666    128452.0   \n",
      "2696               4.95         85.0       0.1   4316.553895   6324121.0   \n",
      "2718               9.90         82.0       6.8    584.396214   3593648.0   \n",
      "2877               6.96         97.0       0.1           NaN         NaN   \n",
      "\n",
      "      thinness  1-19 years  thinness 5-9 years  \\\n",
      "29                     2.0                 2.1   \n",
      "89                     1.1                 0.9   \n",
      "130                    1.8                 2.0   \n",
      "151                    2.8                 2.9   \n",
      "204                    2.3                 2.9   \n",
      "...                    ...                 ...   \n",
      "2650                   5.8                 6.0   \n",
      "2661                   6.4                 6.9   \n",
      "2696                   5.3                 5.2   \n",
      "2718                   5.9                 5.9   \n",
      "2877                  14.4                15.0   \n",
      "\n",
      "      Income composition of resources  Schooling  \n",
      "29                              0.670       10.7  \n",
      "89                              0.782       16.1  \n",
      "130                             0.887       15.7  \n",
      "151                             0.719       11.6  \n",
      "204                             0.484        7.9  \n",
      "...                               ...        ...  \n",
      "2650                            0.778       12.7  \n",
      "2661                            0.729       12.0  \n",
      "2696                            0.641       10.7  \n",
      "2718                            0.477       10.7  \n",
      "2877                            0.662       12.2  \n",
      "\n",
      "[76 rows x 25 columns]\n"
     ]
    }
   ],
   "source": [
    "# Filtro las columnas para mostrar solo las filas que tengan valor\n",
    "# igual al maximo\n",
    "# Filtro las filas con la expectativa de vida igual al valor máximo\n",
    "filas_max = expvida[expvida['life expectancy(women)'] == max_vida_numpy]\n",
    "\n",
    "# Muestro las filas filtradas\n",
    "print(filas_max)"
   ]
  },
  {
   "cell_type": "code",
   "execution_count": 33,
   "metadata": {
    "id": "IQnm1-44SclE"
   },
   "outputs": [
    {
     "name": "stdout",
     "output_type": "stream",
     "text": [
      "Mínima expectativa de vida (women): 50\n",
      "País(es) con la mínima expectativa femenina de vida: ['Armenia' 'Azerbaijan' 'Bahamas' 'Bahrain' 'Belarus' 'Brazil'\n",
      " 'Brunei Darussalam' 'Burkina Faso' 'Cambodia' 'Cameroon' 'Canada' 'Chile'\n",
      " 'China' 'Comoros' 'Costa Rica' 'Croatia' 'Cuba' 'Czechia'\n",
      " 'Democratic Republic of the Congo' 'Denmark' 'Equatorial Guinea' 'France'\n",
      " 'Gambia' 'Germany' 'Ghana' 'Greece' 'Grenada' 'Guinea'\n",
      " 'Iran (Islamic Republic of)' 'Iraq' 'Ireland' 'Kenya' 'Kuwait' 'Lesotho'\n",
      " 'Malawi' 'Mali' 'Malta' 'Micronesia (Federated States of)' 'Niue' 'Oman'\n",
      " 'Papua New Guinea' 'Paraguay' 'Poland' 'Qatar' 'Republic of Moldova'\n",
      " 'Russian Federation' 'Rwanda' 'Saudi Arabia' 'Slovakia' 'Somalia' 'Spain'\n",
      " 'Sri Lanka' 'Sudan' 'Suriname' 'Swaziland' 'Sweden' 'Switzerland'\n",
      " 'Tajikistan' 'The former Yugoslav republic of Macedonia' 'Turkey'\n",
      " 'Turkmenistan' 'Uganda' 'United Arab Emirates'\n",
      " 'United Republic of Tanzania' 'Uzbekistan' 'Yemen']\n"
     ]
    }
   ],
   "source": [
    "# Filtro las columnas para mostrar solo las filas que tengan valor\n",
    "# igual al minimo\n",
    "#sin que tome NaN\n",
    "min_vida_numpy = np.min(expvida['life expectancy(women)'].dropna())\n",
    "\n",
    "filas_min = expvida[expvida['life expectancy(women)'] == min_vida_numpy]\n",
    "paises_min_women = filas_min['Country'].unique()\n",
    "\n",
    "print(f\"Mínima expectativa de vida (women): {min_vida_numpy}\")\n",
    "print(f\"País(es) con la mínima expectativa femenina de vida: {paises_min_women}\")"
   ]
  },
  {
   "cell_type": "markdown",
   "metadata": {
    "id": "mk_q0UUdSclq"
   },
   "source": [
    "\\15) ¿Cuantas categorias encontramos en la columna \"Status\"? _**Pista**_: Lee acerca de la función [unique()](http://pandas.pydata.org/pandas-docs/stable/reference/api/pandas.Series.unique.html?highlight=unique#pandas.Series.unique)"
   ]
  },
  {
   "cell_type": "code",
   "execution_count": 34,
   "metadata": {
    "id": "HA2tDgWVSclq"
   },
   "outputs": [
    {
     "name": "stdout",
     "output_type": "stream",
     "text": [
      "Categorías únicas en 'Status': ['Developing' 'Developed']\n",
      "Cantidad de categorías en 'Status': 2\n"
     ]
    }
   ],
   "source": [
    "# Obtengo los valores unicos de la columna status\n",
    "categorias_status = expvida['Status'].unique()\n",
    "print(f\"Categorías únicas en 'Status': {categorias_status}\")\n",
    "\n",
    "# Cuento cuántas categorías hay\n",
    "cantidad_categorias = len(categorias_status)\n",
    "print(f\"Cantidad de categorías en 'Status': {cantidad_categorias}\")"
   ]
  },
  {
   "cell_type": "markdown",
   "metadata": {
    "id": "ps0WfRElSclu"
   },
   "source": [
    "16) ¿Cuantos paises se ubican en cada una de esas categorias de \"Status\"? _**Pista**_: Lee acerca de la función [value_counts()](http://pandas.pydata.org/pandas-docs/stable/reference/api/pandas.Series.value_counts.html)"
   ]
  },
  {
   "cell_type": "code",
   "execution_count": 35,
   "metadata": {
    "id": "a8zkd7TTSclw"
   },
   "outputs": [
    {
     "name": "stdout",
     "output_type": "stream",
     "text": [
      "Cantidad de filas por Status:\n",
      "Status\n",
      "Developing    2426\n",
      "Developed      512\n",
      "Name: count, dtype: int64\n"
     ]
    }
   ],
   "source": [
    "# Cuento cuantos valores hay de cada categoria\n",
    "# Cuenta cuántas filas hay por categoría de Status\n",
    "conteo_filas = expvida['Status'].value_counts()\n",
    "print(\"Cantidad de filas por Status:\")\n",
    "print(conteo_filas)"
   ]
  },
  {
   "cell_type": "markdown",
   "metadata": {
    "id": "IFvTsLnQSclz"
   },
   "source": [
    "18) ¿Cuantos paises presentaron algun caso de Sarampion (**Measles**) en el 2015? **_Pista_**: Lee acerca de la función [.count()](http://pandas.pydata.org/pandas-docs/stable/reference/api/pandas.DataFrame.count.html?highlight=count#pandas.DataFrame.count)"
   ]
  },
  {
   "cell_type": "code",
   "execution_count": 36,
   "metadata": {
    "id": "qOyyukGmSclz"
   },
   "outputs": [
    {
     "name": "stdout",
     "output_type": "stream",
     "text": [
      "Cantidad de países que presentaron casos de sarampión en 2015: 121\n"
     ]
    }
   ],
   "source": [
    "# Cuento cuantas filas tienen valores distintos de cero\n",
    "# Filtro filas del año 2015 y con casos de sarampión > 0\n",
    "measles_2015 = expvida[(expvida['Year'] == 2015) & (expvida['measles'] > 0)]\n",
    "\n",
    "# Cuento cuántos países únicos presentaron casos\n",
    "paises_con_measles = measles_2015['Country'].nunique()\n",
    "\n",
    "print(f\"Cantidad de países que presentaron casos de sarampión en 2015: {paises_con_measles}\")"
   ]
  },
  {
   "cell_type": "code",
   "execution_count": 37,
   "metadata": {
    "id": "aFaOi_mmScl2"
   },
   "outputs": [
    {
     "name": "stdout",
     "output_type": "stream",
     "text": [
      "['Afghanistan' 'Algeria' 'Angola' 'Armenia' 'Australia' 'Austria'\n",
      " 'Bangladesh' 'Belarus' 'Belgium' 'Benin' 'Bhutan'\n",
      " 'Bosnia and Herzegovina' 'Brazil' 'Brunei Darussalam' 'Burkina Faso'\n",
      " 'Burundi' \"Côte d'Ivoire\" 'Cameroon' 'Canada' 'Central African Republic'\n",
      " 'Chad' 'Chile' 'China' 'Colombia' 'Congo' 'Croatia' 'Czechia'\n",
      " 'Democratic Republic of the Congo' 'Denmark' 'Djibouti' 'Egypt'\n",
      " 'Equatorial Guinea' 'Eritrea' 'Estonia' 'Ethiopia' 'Finland' 'France'\n",
      " 'Gabon' 'Gambia' 'Georgia' 'Germany' 'Ghana' 'Greece' 'Guinea'\n",
      " 'Guinea-Bissau' 'India' 'Indonesia' 'Iran (Islamic Republic of)' 'Iraq'\n",
      " 'Ireland' 'Israel' 'Italy' 'Japan' 'Kazakhstan' 'Kenya' 'Kuwait'\n",
      " 'Kyrgyzstan' \"Lao People's Democratic Republic\" 'Lebanon' 'Liberia'\n",
      " 'Libya' 'Lithuania' 'Madagascar' 'Malaysia' 'Mali' 'Malta' 'Mauritania'\n",
      " 'Mongolia' 'Morocco' 'Mozambique' 'Myanmar' 'Namibia' 'Nepal'\n",
      " 'Netherlands' 'New Zealand' 'Niger' 'Nigeria' 'Norway' 'Pakistan'\n",
      " 'Papua New Guinea' 'Peru' 'Philippines' 'Portugal' 'Qatar'\n",
      " 'Republic of Korea' 'Romania' 'Russian Federation' 'Rwanda'\n",
      " 'Saudi Arabia' 'Senegal' 'Serbia' 'Sierra Leone' 'Slovakia' 'Slovenia'\n",
      " 'Somalia' 'South Africa' 'South Sudan' 'Spain' 'Sri Lanka' 'Sudan'\n",
      " 'Sweden' 'Switzerland' 'Syrian Arab Republic' 'Tajikistan' 'Thailand'\n",
      " 'The former Yugoslav republic of Macedonia' 'Timor-Leste' 'Togo'\n",
      " 'Tunisia' 'Turkey' 'Uganda' 'Ukraine' 'United Arab Emirates'\n",
      " 'United Kingdom of Great Britain and Northern Ireland'\n",
      " 'United Republic of Tanzania' 'United States of America' 'Uzbekistan'\n",
      " 'Vanuatu' 'Viet Nam' 'Yemen' 'Zambia']\n"
     ]
    }
   ],
   "source": [
    "print(measles_2015['Country'].unique())"
   ]
  }
 ],
 "metadata": {
  "colab": {
   "provenance": []
  },
  "kernelspec": {
   "display_name": "Python 3 (ipykernel)",
   "language": "python",
   "name": "python3"
  },
  "language_info": {
   "codemirror_mode": {
    "name": "ipython",
    "version": 3
   },
   "file_extension": ".py",
   "mimetype": "text/x-python",
   "name": "python",
   "nbconvert_exporter": "python",
   "pygments_lexer": "ipython3",
   "version": "3.12.7"
  }
 },
 "nbformat": 4,
 "nbformat_minor": 4
}
